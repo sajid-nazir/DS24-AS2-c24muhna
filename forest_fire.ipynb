{
 "cells": [
  {
   "cell_type": "code",
   "execution_count": null,
   "metadata": {},
   "outputs": [],
   "source": [
    "\n",
    "import pandas as pd\n",
    "from sklearn.preprocessing import StandardScaler, OneHotEncoder\n",
    "from sklearn.compose import ColumnTransformer\n",
    "from sklearn.pipeline import Pipeline\n",
    "from sklearn.impute import SimpleImputer\n",
    "from ucimlrepo import fetch_ucirepo \n",
    "import numpy as np\n", // Added import for numpy
    "\n",
    "# Fetch the dataset\n",
    "forest_fires = fetch_ucirepo(id=162)\n",
    "\n"
   ]
  },
  {
   "cell_type": "code",
   "execution_count": 3,
   "metadata": {},
   "outputs": [
    {
     "name": "stdout",
     "output_type": "stream",
     "text": [
      "          X         Y      FFMC       DMC        DC       ISI      temp  \\\n",
      "0  1.008313  0.569860 -0.805959 -1.323326 -1.830477 -0.860946 -1.842640   \n",
      "1  1.008313 -0.244001 -0.008102 -1.179541  0.488891 -0.509688 -0.153278   \n",
      "2  1.008313 -0.244001 -0.008102 -1.049822  0.560715 -0.509688 -0.739383   \n",
      "3  1.440925  1.383722  0.191362 -1.212361 -1.898266 -0.004756 -1.825402   \n",
      "4  1.440925  1.383722 -0.243833 -0.931043 -1.798600  0.126966 -1.291012   \n",
      "\n",
      "         RH  month_apr  month_aug  ...  month_nov  month_oct  month_sep  \\\n",
      "0  0.411724        0.0        0.0  ...        0.0        0.0        0.0   \n",
      "1 -0.692456        0.0        0.0  ...        0.0        1.0        0.0   \n",
      "2 -0.692456        0.0        0.0  ...        0.0        1.0        0.0   \n",
      "3  3.233519        0.0        0.0  ...        0.0        0.0        0.0   \n",
      "4  3.356206        0.0        0.0  ...        0.0        0.0        0.0   \n",
      "\n",
      "   day_fri  day_mon  day_sat  day_sun  day_thu  day_tue  day_wed  \n",
      "0      1.0      0.0      0.0      0.0      0.0      0.0      0.0  \n",
      "1      0.0      0.0      0.0      0.0      0.0      1.0      0.0  \n",
      "2      0.0      0.0      1.0      0.0      0.0      0.0      0.0  \n",
      "3      1.0      0.0      0.0      0.0      0.0      0.0      0.0  \n",
      "4      0.0      0.0      0.0      1.0      0.0      0.0      0.0  \n",
      "\n",
      "[5 rows x 27 columns]\n"
     ]
    }
   ],
   "source": [
    "from sklearn.preprocessing import OneHotEncoder, StandardScaler\n",
    "from sklearn.compose import ColumnTransformer\n",
    "from sklearn.pipeline import Pipeline\n",
    "from sklearn.impute import SimpleImputer\n",
    "import numpy as np\n",
    "\n",
    "# Define the categorical and numerical features\n",
    "categorical_features = ['month', 'day']\n",
    "numerical_features = ['X', 'Y', 'FFMC', 'DMC', 'DC', 'ISI', 'temp', 'RH']\n",
    "target_variable = 'area'\n", // Added target variable
    "\n",
    "# Handle missing values (although there are none in this dataset)\n",
    "imputer = SimpleImputer(strategy='most_frequent')\n",
    "forest_fires_df[categorical_features] = imputer.fit_transform(forest_fires_df[categorical_features])\n",
    "forest_fires_df[numerical_features] = imputer.fit_transform(forest_fires_df[numerical_features])\n",
    "\n",
    "# Encode categorical variables\n",
    "encoder = OneHotEncoder(handle_unknown='ignore')\n",
    "encoded_categorical = encoder.fit_transform(forest_fires_df[categorical_features]).toarray()\n",
    "\n",
    "# Scale numerical features\n",
    "scaler = StandardScaler()\n",
    "scaled_numerical = scaler.fit_transform(forest_fires_df[numerical_features])\n",
    "\n",
    "# Apply logarithm transform to the target variable\n",
    "forest_fires_df[target_variable] = np.log1p(forest_fires_df[target_variable])\n", // Log transform
    "\n",
    "# Combine the processed features\n",
    "processed_data = np.hstack((scaled_numerical, encoded_categorical))\n",
    "\n",
    "# Convert to DataFrame for better readability\n",
    "processed_df = pd.DataFrame(processed_data, columns=numerical_features + encoder.get_feature_names_out(categorical_features).tolist())\n",
    "print(processed_df.head())\n",
    "print(forest_fires_df[[target_variable]].head())" // Print transformed target variable
   ]
  },
  {
   "cell_type": "code",
   "execution_count": null,
   "metadata": {},
   "outputs": [],
   "source": []
  }
 ],
 "metadata": {
  "kernelspec": {
   "display_name": "mlflowenv",
   "language": "python",
   "name": "python3"
  },
  "language_info": {
   "codemirror_mode": {
    "name": "ipython",
    "version": 3
   },
   "file_extension": ".py",
   "mimetype": "text/x-python",
   "name": "python",
   "nbconvert_exporter": "python",
   "pygments_lexer": "ipython3",
   "version": "3.11.11"
  }
 },
 "nbformat": 4,
 "nbformat_minor": 2
}
